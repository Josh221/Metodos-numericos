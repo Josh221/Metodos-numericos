{
 "cells": [
  {
   "cell_type": "code",
   "execution_count": 1,
   "metadata": {},
   "outputs": [
    {
     "name": "stdout",
     "output_type": "stream",
     "text": [
      "xi = 2.836, error = 0.836\n",
      "xi = 2.814, error = 0.022\n",
      "xi = 2.814, error = 0.0\n",
      "xi = 2.814, error = 0.0\n",
      "La raiz es x=2.814 , iteraciones = 4 \n"
     ]
    }
   ],
   "source": [
    "#Introducir función\n",
    "f(x) = (10 + 3.599/x^2)*(x-0.04267) - (0.08205)*(353.15)\n",
    "Df(x) = diff(f,x)\n",
    "tol = 1*10^(-6)\n",
    "n_max = 30\n",
    "#Introducir aproximación inicial\n",
    "x0 = 2\n",
    "i = 1\n",
    "while (i<=n_max):\n",
    "    x = x0 - f(x0)/Df(x0)\n",
    "    print(f\"xi = {round(numerical_approx(x),3)}, error = {round(numerical_approx( abs(x-x0) ),3 )}\")\n",
    "    if (abs(x-x0)<tol):\n",
    "        print(f\"La raiz es x={round(numerical_approx(x),3)} , iteraciones = {i} \")\n",
    "        break\n",
    "    i=i+1\n",
    "    x0 = x\n",
    "if (i>=n_max):\n",
    "    print(\"El método no converge\")"
   ]
  },
  {
   "cell_type": "code",
   "execution_count": null,
   "metadata": {},
   "outputs": [],
   "source": []
  }
 ],
 "metadata": {
  "kernelspec": {
   "display_name": "SageMath 9.1",
   "language": "sage",
   "name": "sagemath"
  },
  "language_info": {
   "codemirror_mode": {
    "name": "ipython",
    "version": 3
   },
   "file_extension": ".py",
   "mimetype": "text/x-python",
   "name": "python",
   "nbconvert_exporter": "python",
   "pygments_lexer": "ipython3",
   "version": "3.8.5"
  }
 },
 "nbformat": 4,
 "nbformat_minor": 4
}
