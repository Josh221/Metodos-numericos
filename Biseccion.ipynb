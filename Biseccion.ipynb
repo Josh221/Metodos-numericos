{
 "cells": [
  {
   "cell_type": "code",
   "execution_count": 3,
   "metadata": {},
   "outputs": [
    {
     "name": "stdout",
     "output_type": "stream",
     "text": [
      " a = 2.0, b = 3.0, f(a) = -7.64155, f(b) = 1.779946, xi = 2.5, f(xi) = -2.987629, error = 1.0\n",
      " a = 2.5, b = 3.0, f(a) = -2.987629, f(b) = 1.779946, xi = 2.75, f(xi) = -0.614237, error = 0.5\n",
      " a = 2.75, b = 3.0, f(a) = -0.614237, f(b) = 1.779946, xi = 2.875, f(xi) = 0.580589, error = 0.25\n",
      " a = 2.75, b = 2.875, f(a) = -0.614237, f(b) = 0.580589, xi = 2.8125, f(xi) = -0.017427, error = 0.125\n",
      " a = 2.8125, b = 2.875, f(a) = -0.017427, f(b) = 0.580589, xi = 2.84375, f(xi) = 0.281435, error = 0.0625\n",
      " a = 2.8125, b = 2.84375, f(a) = -0.017427, f(b) = 0.281435, xi = 2.828125, f(xi) = 0.131967, error = 0.03125\n",
      " a = 2.8125, b = 2.828125, f(a) = -0.017427, f(b) = 0.131967, xi = 2.820312, f(xi) = 0.05726, error = 0.015625\n",
      " a = 2.8125, b = 2.820312, f(a) = -0.017427, f(b) = 0.05726, xi = 2.816406, f(xi) = 0.019914, error = 0.007812\n",
      " a = 2.8125, b = 2.816406, f(a) = -0.017427, f(b) = 0.019914, xi = 2.814453, f(xi) = 0.001243, error = 0.003906\n",
      " a = 2.8125, b = 2.814453, f(a) = -0.017427, f(b) = 0.001243, xi = 2.813477, f(xi) = -0.008092, error = 0.001953\n",
      " a = 2.813477, b = 2.814453, f(a) = -0.008092, f(b) = 0.001243, xi = 2.813965, f(xi) = -0.003425, error = 0.000977\n",
      " a = 2.813965, b = 2.814453, f(a) = -0.003425, f(b) = 0.001243, xi = 2.814209, f(xi) = -0.001091, error = 0.000488\n",
      " a = 2.814209, b = 2.814453, f(a) = -0.001091, f(b) = 0.001243, xi = 2.814331, f(xi) = 7.6e-05, error = 0.000244\n",
      " a = 2.814209, b = 2.814331, f(a) = -0.001091, f(b) = 7.6e-05, xi = 2.81427, f(xi) = -0.000507, error = 0.000122\n",
      " a = 2.81427, b = 2.814331, f(a) = -0.000507, f(b) = 7.6e-05, xi = 2.814301, f(xi) = -0.000216, error = 6.1e-05\n",
      " a = 2.814301, b = 2.814331, f(a) = -0.000216, f(b) = 7.6e-05, xi = 2.814316, f(xi) = -7e-05, error = 3.1e-05\n",
      " a = 2.814316, b = 2.814331, f(a) = -7e-05, f(b) = 7.6e-05, xi = 2.814323, f(xi) = 3e-06, error = 1.5e-05\n",
      " a = 2.814316, b = 2.814323, f(a) = -7e-05, f(b) = 3e-06, xi = 2.81432, f(xi) = -3.3e-05, error = 8e-06\n",
      " a = 2.81432, b = 2.814323, f(a) = -3.3e-05, f(b) = 3e-06, xi = 2.814322, f(xi) = -1.5e-05, error = 4e-06\n",
      " a = 2.814322, b = 2.814323, f(a) = -1.5e-05, f(b) = 3e-06, xi = 2.814322, f(xi) = -6e-06, error = 2e-06\n",
      "La raiz buscada es : x = 2.814322 despues de 20 iteraciones\n"
     ]
    }
   ],
   "source": [
    "#Introducir función\n",
    "f(x) = (10 + 3.599/x^2)*(x-0.04267) - (0.08205)*(353.15)\n",
    "#Introducir intervalo de confianza\n",
    "a = 2\n",
    "b = 3\n",
    "\n",
    "tol = 1*10^(-6)\n",
    "n_max = 30 \n",
    "\n",
    "i = 1\n",
    "fa = f(a)\n",
    "fb = f(b)\n",
    "\n",
    "while (i <= n_max):\n",
    "    xi = (a+b)/2\n",
    "    fxi = f(xi)\n",
    "    print(f\" a = {round(a,6)}, b = {round(b,6)}, f(a) = {round(fa,6)}, f(b) = {round(fb,6)}, xi = {round(xi,6)}, f(xi) = {round(fxi,6)}, error = {round(b-a,6)}\")\n",
    "\n",
    "    if (fxi == 0) or (b-a)/2 < tol:\n",
    "        print(f\"La raiz buscada es : x = {round(xi,6)} despues de {i} iteraciones\")\n",
    "        break\n",
    "\n",
    "    i = i +1\n",
    "#Funcion sign evita un posible desbordamiento de memoria del producto\n",
    "    if sign(fa)*sign(fxi) > 0:\n",
    "        a = xi\n",
    "        fa = fxi\n",
    "    else:\n",
    "        b = xi\n",
    "        fb = fxi\n",
    "if i >= n_max:\n",
    "    print(\"El método no converge\")"
   ]
  },
  {
   "cell_type": "code",
   "execution_count": 2,
   "metadata": {},
   "outputs": [
    {
     "data": {
      "text/plain": [
       "-15.9572268300000"
      ]
     },
     "execution_count": 2,
     "metadata": {},
     "output_type": "execute_result"
    }
   ],
   "source": [
    "f(1)"
   ]
  },
  {
   "cell_type": "code",
   "execution_count": null,
   "metadata": {},
   "outputs": [],
   "source": []
  }
 ],
 "metadata": {
  "kernelspec": {
   "display_name": "SageMath 9.1",
   "language": "sage",
   "name": "sagemath"
  },
  "language_info": {
   "codemirror_mode": {
    "name": "ipython",
    "version": 3
   },
   "file_extension": ".py",
   "mimetype": "text/x-python",
   "name": "python",
   "nbconvert_exporter": "python",
   "pygments_lexer": "ipython3",
   "version": "3.8.5"
  }
 },
 "nbformat": 4,
 "nbformat_minor": 4
}
