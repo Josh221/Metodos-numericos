{
 "cells": [
  {
   "cell_type": "code",
   "execution_count": 5,
   "metadata": {},
   "outputs": [
    {
     "name": "stdout",
     "output_type": "stream",
     "text": [
      "Se procede con el método\n",
      " gi(a) = 2.939455, error = 1.0\n",
      " gi(a) = 2.898949, error = 0.060545\n",
      " gi(a) = 2.871692, error = 0.040505\n",
      " gi(a) = 2.853277, error = 0.027257\n",
      " gi(a) = 2.840803, error = 0.018415\n",
      " gi(a) = 2.832336, error = 0.012475\n",
      " gi(a) = 2.826583, error = 0.008466\n",
      " gi(a) = 2.82267, error = 0.005753\n",
      " gi(a) = 2.820008, error = 0.003913\n",
      " gi(a) = 2.818195, error = 0.002663\n",
      " gi(a) = 2.816961, error = 0.001813\n",
      " gi(a) = 2.81612, error = 0.001234\n",
      " gi(a) = 2.815547, error = 0.000841\n",
      " gi(a) = 2.815157, error = 0.000573\n",
      " gi(a) = 2.814891, error = 0.00039\n",
      " gi(a) = 2.81471, error = 0.000266\n",
      " gi(a) = 2.814587, error = 0.000181\n",
      " gi(a) = 2.814503, error = 0.000123\n",
      " gi(a) = 2.814446, error = 8.4e-05\n",
      " gi(a) = 2.814407, error = 5.7e-05\n",
      " gi(a) = 2.81438, error = 3.9e-05\n",
      " gi(a) = 2.814362, error = 2.7e-05\n",
      " gi(a) = 2.814349, error = 1.8e-05\n",
      " gi(a) = 2.814341, error = 1.2e-05\n",
      " gi(a) = 2.814335, error = 8e-06\n",
      " gi(a) = 2.814331, error = 6e-06\n",
      " gi(a) = 2.814329, error = 4e-06\n",
      " gi(a) = 2.814327, error = 3e-06\n",
      " gi(a) = 2.814326, error = 2e-06\n",
      "La raiz es x= 2.814326 , iteraciones = 30 \n"
     ]
    }
   ],
   "source": [
    "#Introducir función\n",
    "g(x) = \n",
    "\n",
    "#Introducir intervalo de confianza (respecto a f) se visualiza en la gráfica\n",
    "a = 2\n",
    "b = 3\n",
    "#Introducir punto inicial\n",
    "x0 = 2.5\n",
    "\n",
    "Dg = diff(g,x)    \n",
    "tol = 1*10^(-6)\n",
    "n_max = 30\n",
    "error = abs(b-a)\n",
    "Dg_xo = Dg(x0)\n",
    "\n",
    "if abs(Dg_xo)<1:\n",
    "    print(\"Se procede con el método\")\n",
    "    i = 1 \n",
    "    while not(error <= tol or i>=n_max):\n",
    "        a = b\n",
    "        b = g(a)\n",
    "        print(f\" gi(a) = { round(numerical_approx(b),6) }, error = {round(error,6)}\")   \n",
    "        error = numerical_approx(abs(b-a))\n",
    "        i = i+1\n",
    "    raiz = numerical_approx(b)\n",
    "    print(f\"La raiz es x= {round(raiz,6)} , iteraciones = {i} \")\n",
    "else: \n",
    "    print(\"No se cumple el criterio de convergencia\")"
   ]
  },
  {
   "cell_type": "code",
   "execution_count": null,
   "metadata": {},
   "outputs": [],
   "source": []
  },
  {
   "cell_type": "code",
   "execution_count": 15,
   "metadata": {},
   "outputs": [
    {
     "data": {
      "text/plain": [
       "0.709425974348423"
      ]
     },
     "execution_count": 15,
     "metadata": {},
     "output_type": "execute_result"
    }
   ],
   "source": [
    "Dg(2.5)"
   ]
  },
  {
   "cell_type": "code",
   "execution_count": null,
   "metadata": {},
   "outputs": [],
   "source": []
  }
 ],
 "metadata": {
  "kernelspec": {
   "display_name": "SageMath 9.1",
   "language": "sage",
   "name": "sagemath"
  },
  "language_info": {
   "codemirror_mode": {
    "name": "ipython",
    "version": 3
   },
   "file_extension": ".py",
   "mimetype": "text/x-python",
   "name": "python",
   "nbconvert_exporter": "python",
   "pygments_lexer": "ipython3",
   "version": "3.8.5"
  }
 },
 "nbformat": 4,
 "nbformat_minor": 4
}
